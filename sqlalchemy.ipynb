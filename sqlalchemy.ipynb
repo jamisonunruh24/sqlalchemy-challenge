{
 "cells": [
  {
   "cell_type": "code",
   "execution_count": 1,
   "metadata": {},
   "outputs": [],
   "source": [
    "# Dependencies\n",
    "# ----------------------------------\n",
    "import pandas as pd\n",
    "import matplotlib.pyplot as plt\n",
    "from sqlalchemy import create_engine, inspect\n",
    "from sqlalchemy.ext.declarative import declarative_base\n",
    "from sqlalchemy import Column, Integer, String, Float\n",
    "from sqlalchemy.ext.automap import automap_base\n",
    "from sqlalchemy.orm import Session\n",
    "Base = declarative_base()"
   ]
  },
  {
   "cell_type": "code",
   "execution_count": 2,
   "metadata": {},
   "outputs": [],
   "source": [
    "database_path = \"Resources/hawaii.sqlite\"\n",
    "engine = create_engine(f\"sqlite:///{database_path}\")\n",
    "Base.metadata.create_all(engine)"
   ]
  },
  {
   "cell_type": "code",
   "execution_count": 3,
   "metadata": {},
   "outputs": [
    {
     "data": {
      "text/plain": [
       "['measurement', 'station']"
      ]
     },
     "execution_count": 3,
     "metadata": {},
     "output_type": "execute_result"
    }
   ],
   "source": [
    "#vacation dates 6/1/2017 - 6/10/2017\n",
    "# Reflect Database into ORM classes\n",
    "Base = automap_base()\n",
    "Base.prepare(engine, reflect=True)\n",
    "Base.classes.keys()"
   ]
  },
  {
   "cell_type": "code",
   "execution_count": 4,
   "metadata": {},
   "outputs": [],
   "source": [
    "Measurement = Base.classes.measurement\n",
    "Station = Base.classes.station\n",
    "session = Session(engine)"
   ]
  },
  {
   "cell_type": "code",
   "execution_count": 5,
   "metadata": {},
   "outputs": [
    {
     "data": {
      "text/plain": [
       "['measurement', 'station']"
      ]
     },
     "execution_count": 5,
     "metadata": {},
     "output_type": "execute_result"
    }
   ],
   "source": [
    "inspector = inspect(engine)\n",
    "inspector.get_table_names()"
   ]
  },
  {
   "cell_type": "code",
   "execution_count": 6,
   "metadata": {},
   "outputs": [
    {
     "name": "stdout",
     "output_type": "stream",
     "text": [
      "id INTEGER\n",
      "station TEXT\n",
      "date TEXT\n",
      "prcp FLOAT\n",
      "tobs FLOAT\n"
     ]
    }
   ],
   "source": [
    "columns = inspector.get_columns('measurement')\n",
    "for c in columns:\n",
    "        print(c['name'], c['type'])"
   ]
  },
  {
   "cell_type": "code",
   "execution_count": 7,
   "metadata": {},
   "outputs": [
    {
     "name": "stdout",
     "output_type": "stream",
     "text": [
      "id INTEGER\n",
      "station TEXT\n",
      "name TEXT\n",
      "latitude FLOAT\n",
      "longitude FLOAT\n",
      "elevation FLOAT\n"
     ]
    }
   ],
   "source": [
    "columns = inspector.get_columns('station')\n",
    "for c in columns:\n",
    "        print(c['name'], c['type'])"
   ]
  },
  {
   "cell_type": "code",
   "execution_count": 8,
   "metadata": {},
   "outputs": [
    {
     "data": {
      "text/plain": [
       "('2017-08-23')"
      ]
     },
     "execution_count": 8,
     "metadata": {},
     "output_type": "execute_result"
    }
   ],
   "source": [
    "session.query(Measurement.date).order_by(Measurement.date.desc()).first()"
   ]
  },
  {
   "cell_type": "code",
   "execution_count": 9,
   "metadata": {},
   "outputs": [],
   "source": [
    "#esign a query to retrieve the last 12 months of precipitation data. 8/23/2016 - 8/23/2017\n",
    "prcp_data = session.query(Measurement.date, Measurement.prcp).\\\n",
    "    filter(Measurement.date > '2016-08-22').\\\n",
    "    order_by(Measurement.date).all()"
   ]
  },
  {
   "cell_type": "code",
   "execution_count": 10,
   "metadata": {},
   "outputs": [],
   "source": [
    "prcp_df = pd.DataFrame(prcp_data)\n"
   ]
  },
  {
   "cell_type": "code",
   "execution_count": 11,
   "metadata": {},
   "outputs": [
    {
     "data": {
      "text/html": [
       "<div>\n",
       "<style scoped>\n",
       "    .dataframe tbody tr th:only-of-type {\n",
       "        vertical-align: middle;\n",
       "    }\n",
       "\n",
       "    .dataframe tbody tr th {\n",
       "        vertical-align: top;\n",
       "    }\n",
       "\n",
       "    .dataframe thead th {\n",
       "        text-align: right;\n",
       "    }\n",
       "</style>\n",
       "<table border=\"1\" class=\"dataframe\">\n",
       "  <thead>\n",
       "    <tr style=\"text-align: right;\">\n",
       "      <th></th>\n",
       "      <th>prcp</th>\n",
       "    </tr>\n",
       "    <tr>\n",
       "      <th>date</th>\n",
       "      <th></th>\n",
       "    </tr>\n",
       "  </thead>\n",
       "  <tbody>\n",
       "    <tr>\n",
       "      <th>2016-08-23</th>\n",
       "      <td>0.00</td>\n",
       "    </tr>\n",
       "    <tr>\n",
       "      <th>2016-08-23</th>\n",
       "      <td>0.15</td>\n",
       "    </tr>\n",
       "    <tr>\n",
       "      <th>2016-08-23</th>\n",
       "      <td>0.05</td>\n",
       "    </tr>\n",
       "    <tr>\n",
       "      <th>2016-08-23</th>\n",
       "      <td>NaN</td>\n",
       "    </tr>\n",
       "    <tr>\n",
       "      <th>2016-08-23</th>\n",
       "      <td>0.02</td>\n",
       "    </tr>\n",
       "    <tr>\n",
       "      <th>2016-08-23</th>\n",
       "      <td>1.79</td>\n",
       "    </tr>\n",
       "    <tr>\n",
       "      <th>2016-08-23</th>\n",
       "      <td>0.70</td>\n",
       "    </tr>\n",
       "    <tr>\n",
       "      <th>2016-08-24</th>\n",
       "      <td>0.08</td>\n",
       "    </tr>\n",
       "    <tr>\n",
       "      <th>2016-08-24</th>\n",
       "      <td>2.15</td>\n",
       "    </tr>\n",
       "    <tr>\n",
       "      <th>2016-08-24</th>\n",
       "      <td>2.28</td>\n",
       "    </tr>\n",
       "  </tbody>\n",
       "</table>\n",
       "</div>"
      ],
      "text/plain": [
       "            prcp\n",
       "date            \n",
       "2016-08-23  0.00\n",
       "2016-08-23  0.15\n",
       "2016-08-23  0.05\n",
       "2016-08-23   NaN\n",
       "2016-08-23  0.02\n",
       "2016-08-23  1.79\n",
       "2016-08-23  0.70\n",
       "2016-08-24  0.08\n",
       "2016-08-24  2.15\n",
       "2016-08-24  2.28"
      ]
     },
     "execution_count": 11,
     "metadata": {},
     "output_type": "execute_result"
    }
   ],
   "source": [
    "prcp_df = prcp_df.set_index(\"date\")\n",
    "prcp_df.sort_index()\n",
    "prcp_df.head(10)"
   ]
  },
  {
   "cell_type": "code",
   "execution_count": 49,
   "metadata": {},
   "outputs": [
    {
     "data": {
      "image/png": "[encoded data removed]",
      "text/plain": [
       "<Figure size 1080x360 with 1 Axes>"
      ]
     },
     "metadata": {
      "needs_background": "light"
     },
     "output_type": "display_data"
    },
    {
     "data": {
      "text/plain": [
       "<Figure size 432x288 with 0 Axes>"
      ]
     },
     "metadata": {},
     "output_type": "display_data"
    }
   ],
   "source": [
    "plot = prcp_df.plot(kind=\"bar\", figsize=(15,5) )\n",
    "#need to find index number for the date ranges\n",
    "plt.xticks([4,252,501,753,1003,1253,1501,1752,2001],['2016-08-23', '2016-10-01', '2016-11-09', '2016-12-19', '2017-01-28', '2017-03-09', '2017-04-18', '2017-05-31', '2017-07-10'])\n",
    "plt.title(\"Rainfall over a year\")\n",
    "plt.xlabel(\"Date\")\n",
    "plt.ylabel(\"Inches\")\n",
    "plt.show()\n",
    "plt.tight_layout()"
   ]
  },
  {
   "cell_type": "code",
   "execution_count": 13,
   "metadata": {},
   "outputs": [
    {
     "data": {
      "text/html": [
       "<div>\n",
       "<style scoped>\n",
       "    .dataframe tbody tr th:only-of-type {\n",
       "        vertical-align: middle;\n",
       "    }\n",
       "\n",
       "    .dataframe tbody tr th {\n",
       "        vertical-align: top;\n",
       "    }\n",
       "\n",
       "    .dataframe thead th {\n",
       "        text-align: right;\n",
       "    }\n",
       "</style>\n",
       "<table border=\"1\" class=\"dataframe\">\n",
       "  <thead>\n",
       "    <tr style=\"text-align: right;\">\n",
       "      <th></th>\n",
       "      <th>prcp</th>\n",
       "    </tr>\n",
       "  </thead>\n",
       "  <tbody>\n",
       "    <tr>\n",
       "      <th>count</th>\n",
       "      <td>2021.000000</td>\n",
       "    </tr>\n",
       "    <tr>\n",
       "      <th>mean</th>\n",
       "      <td>0.177279</td>\n",
       "    </tr>\n",
       "    <tr>\n",
       "      <th>std</th>\n",
       "      <td>0.461190</td>\n",
       "    </tr>\n",
       "    <tr>\n",
       "      <th>min</th>\n",
       "      <td>0.000000</td>\n",
       "    </tr>\n",
       "    <tr>\n",
       "      <th>25%</th>\n",
       "      <td>0.000000</td>\n",
       "    </tr>\n",
       "    <tr>\n",
       "      <th>50%</th>\n",
       "      <td>0.020000</td>\n",
       "    </tr>\n",
       "    <tr>\n",
       "      <th>75%</th>\n",
       "      <td>0.130000</td>\n",
       "    </tr>\n",
       "    <tr>\n",
       "      <th>max</th>\n",
       "      <td>6.700000</td>\n",
       "    </tr>\n",
       "  </tbody>\n",
       "</table>\n",
       "</div>"
      ],
      "text/plain": [
       "              prcp\n",
       "count  2021.000000\n",
       "mean      0.177279\n",
       "std       0.461190\n",
       "min       0.000000\n",
       "25%       0.000000\n",
       "50%       0.020000\n",
       "75%       0.130000\n",
       "max       6.700000"
      ]
     },
     "execution_count": 13,
     "metadata": {},
     "output_type": "execute_result"
    }
   ],
   "source": [
    "prcp_df.describe()"
   ]
  },
  {
   "cell_type": "code",
   "execution_count": 14,
   "metadata": {},
   "outputs": [
    {
     "data": {
      "text/plain": [
       "['USC00519397',\n",
       " 'USC00513117',\n",
       " 'USC00514830',\n",
       " 'USC00517948',\n",
       " 'USC00518838',\n",
       " 'USC00519523',\n",
       " 'USC00519281',\n",
       " 'USC00511918',\n",
       " 'USC00516128']"
      ]
     },
     "execution_count": 14,
     "metadata": {},
     "output_type": "execute_result"
    }
   ],
   "source": [
    "stations_df = pd.DataFrame(session.query(Station.station))\n",
    "stations_list = stations_df['station'].tolist()\n",
    "stations_list"
   ]
  },
  {
   "cell_type": "code",
   "execution_count": 15,
   "metadata": {
    "scrolled": true
   },
   "outputs": [
    {
     "data": {
      "text/plain": [
       "9"
      ]
     },
     "execution_count": 15,
     "metadata": {},
     "output_type": "execute_result"
    }
   ],
   "source": [
    "stations = session.query(Station.station)\n",
    "station_list = []\n",
    "station_counts = []\n",
    "for station in stations:\n",
    "    station_list.append(station)\n",
    "    \n",
    "session.query(Station.station).count()"
   ]
  },
  {
   "cell_type": "code",
   "execution_count": 16,
   "metadata": {},
   "outputs": [
    {
     "data": {
      "text/plain": [
       "[2724, 2709, 2202, 1372, 511, 2669, 2772, 1979, 2612]"
      ]
     },
     "execution_count": 16,
     "metadata": {},
     "output_type": "execute_result"
    }
   ],
   "source": [
    "stations_count = []\n",
    "for station in stations_list:\n",
    "    stations_count.append(session.query(Measurement).filter(Measurement.station == station).count())\n",
    "stations_count"
   ]
  },
  {
   "cell_type": "code",
   "execution_count": 17,
   "metadata": {},
   "outputs": [
    {
     "data": {
      "text/html": [
       "<div>\n",
       "<style scoped>\n",
       "    .dataframe tbody tr th:only-of-type {\n",
       "        vertical-align: middle;\n",
       "    }\n",
       "\n",
       "    .dataframe tbody tr th {\n",
       "        vertical-align: top;\n",
       "    }\n",
       "\n",
       "    .dataframe thead th {\n",
       "        text-align: right;\n",
       "    }\n",
       "</style>\n",
       "<table border=\"1\" class=\"dataframe\">\n",
       "  <thead>\n",
       "    <tr style=\"text-align: right;\">\n",
       "      <th></th>\n",
       "      <th>station</th>\n",
       "      <th>frequency</th>\n",
       "    </tr>\n",
       "  </thead>\n",
       "  <tbody>\n",
       "    <tr>\n",
       "      <th>6</th>\n",
       "      <td>USC00519281</td>\n",
       "      <td>2772</td>\n",
       "    </tr>\n",
       "    <tr>\n",
       "      <th>0</th>\n",
       "      <td>USC00519397</td>\n",
       "      <td>2724</td>\n",
       "    </tr>\n",
       "    <tr>\n",
       "      <th>1</th>\n",
       "      <td>USC00513117</td>\n",
       "      <td>2709</td>\n",
       "    </tr>\n",
       "    <tr>\n",
       "      <th>5</th>\n",
       "      <td>USC00519523</td>\n",
       "      <td>2669</td>\n",
       "    </tr>\n",
       "    <tr>\n",
       "      <th>8</th>\n",
       "      <td>USC00516128</td>\n",
       "      <td>2612</td>\n",
       "    </tr>\n",
       "    <tr>\n",
       "      <th>2</th>\n",
       "      <td>USC00514830</td>\n",
       "      <td>2202</td>\n",
       "    </tr>\n",
       "    <tr>\n",
       "      <th>7</th>\n",
       "      <td>USC00511918</td>\n",
       "      <td>1979</td>\n",
       "    </tr>\n",
       "    <tr>\n",
       "      <th>3</th>\n",
       "      <td>USC00517948</td>\n",
       "      <td>1372</td>\n",
       "    </tr>\n",
       "    <tr>\n",
       "      <th>4</th>\n",
       "      <td>USC00518838</td>\n",
       "      <td>511</td>\n",
       "    </tr>\n",
       "  </tbody>\n",
       "</table>\n",
       "</div>"
      ],
      "text/plain": [
       "       station  frequency\n",
       "6  USC00519281       2772\n",
       "0  USC00519397       2724\n",
       "1  USC00513117       2709\n",
       "5  USC00519523       2669\n",
       "8  USC00516128       2612\n",
       "2  USC00514830       2202\n",
       "7  USC00511918       1979\n",
       "3  USC00517948       1372\n",
       "4  USC00518838        511"
      ]
     },
     "execution_count": 17,
     "metadata": {},
     "output_type": "execute_result"
    }
   ],
   "source": [
    "#stations_df = pd.DataFrame({\n",
    "#\"station\": stations_list,\n",
    "#\"frequency\": station_count\n",
    "#})\n",
    "stations_df['frequency']=stations_count\n",
    "stations_df = stations_df.sort_values(by=['frequency'], ascending=False)\n",
    "stations_df"
   ]
  },
  {
   "cell_type": "code",
   "execution_count": 42,
   "metadata": {},
   "outputs": [
    {
     "data": {
      "text/plain": [
       "[('USC00519281', '2017-02-02', 59.0),\n",
       " ('USC00519281', '2017-02-08', 59.0),\n",
       " ('USC00519281', '2017-02-09', 59.0),\n",
       " ('USC00519281', '2017-02-03', 60.0),\n",
       " ('USC00519281', '2017-04-30', 60.0),\n",
       " ('USC00519281', '2017-02-25', 61.0),\n",
       " ('USC00519281', '2016-12-15', 62.0),\n",
       " ('USC00519281', '2017-01-06', 62.0),\n",
       " ('USC00519281', '2017-01-09', 62.0),\n",
       " ('USC00519281', '2017-01-10', 62.0),\n",
       " ('USC00519281', '2017-02-10', 62.0),\n",
       " ('USC00519281', '2017-03-07', 62.0),\n",
       " ('USC00519281', '2016-11-07', 63.0),\n",
       " ('USC00519281', '2017-01-04', 63.0),\n",
       " ('USC00519281', '2017-01-05', 63.0),\n",
       " ('USC00519281', '2017-01-11', 63.0),\n",
       " ('USC00519281', '2017-01-03', 64.0),\n",
       " ('USC00519281', '2017-02-07', 64.0),\n",
       " ('USC00519281', '2017-03-08', 64.0),\n",
       " ('USC00519281', '2016-12-13', 65.0),\n",
       " ('USC00519281', '2017-01-12', 65.0),\n",
       " ('USC00519281', '2017-01-28', 65.0),\n",
       " ('USC00519281', '2017-02-16', 65.0),\n",
       " ('USC00519281', '2017-02-27', 65.0),\n",
       " ('USC00519281', '2017-03-18', 65.0),\n",
       " ('USC00519281', '2017-05-01', 65.0),\n",
       " ('USC00519281', '2016-12-12', 66.0),\n",
       " ('USC00519281', '2017-01-27', 66.0),\n",
       " ('USC00519281', '2017-03-10', 66.0),\n",
       " ('USC00519281', '2017-03-13', 66.0),\n",
       " ('USC00519281', '2017-03-16', 66.0),\n",
       " ('USC00519281', '2016-11-10', 67.0),\n",
       " ('USC00519281', '2016-12-05', 67.0),\n",
       " ('USC00519281', '2016-12-06', 67.0),\n",
       " ('USC00519281', '2016-12-31', 67.0),\n",
       " ('USC00519281', '2017-02-26', 67.0),\n",
       " ('USC00519281', '2017-03-06', 67.0),\n",
       " ('USC00519281', '2017-03-09', 67.0),\n",
       " ('USC00519281', '2017-03-14', 67.0),\n",
       " ('USC00519281', '2017-04-04', 67.0),\n",
       " ('USC00519281', '2017-04-06', 67.0),\n",
       " ('USC00519281', '2017-04-10', 67.0),\n",
       " ('USC00519281', '2017-04-17', 67.0),\n",
       " ('USC00519281', '2017-04-19', 67.0),\n",
       " ('USC00519281', '2017-04-28', 67.0),\n",
       " ('USC00519281', '2017-05-09', 67.0),\n",
       " ('USC00519281', '2016-11-09', 68.0),\n",
       " ('USC00519281', '2016-12-09', 68.0),\n",
       " ('USC00519281', '2016-12-14', 68.0),\n",
       " ('USC00519281', '2017-01-30', 68.0),\n",
       " ('USC00519281', '2017-01-31', 68.0),\n",
       " ('USC00519281', '2017-02-01', 68.0),\n",
       " ('USC00519281', '2017-02-11', 68.0),\n",
       " ('USC00519281', '2017-03-17', 68.0),\n",
       " ('USC00519281', '2017-03-29', 68.0),\n",
       " ('USC00519281', '2017-04-18', 68.0),\n",
       " ('USC00519281', '2017-04-24', 68.0),\n",
       " ('USC00519281', '2017-05-19', 68.0),\n",
       " ('USC00519281', '2016-12-07', 69.0),\n",
       " ('USC00519281', '2016-12-10', 69.0),\n",
       " ('USC00519281', '2016-12-11', 69.0),\n",
       " ('USC00519281', '2016-12-18', 69.0),\n",
       " ('USC00519281', '2016-12-30', 69.0),\n",
       " ('USC00519281', '2017-01-13', 69.0),\n",
       " ('USC00519281', '2017-01-17', 69.0),\n",
       " ('USC00519281', '2017-01-20', 69.0),\n",
       " ('USC00519281', '2017-01-25', 69.0),\n",
       " ('USC00519281', '2017-01-29', 69.0),\n",
       " ('USC00519281', '2017-02-24', 69.0),\n",
       " ('USC00519281', '2017-03-12', 69.0),\n",
       " ('USC00519281', '2017-03-15', 69.0),\n",
       " ('USC00519281', '2017-03-20', 69.0),\n",
       " ('USC00519281', '2017-04-12', 69.0),\n",
       " ('USC00519281', '2017-04-13', 69.0),\n",
       " ('USC00519281', '2017-04-21', 69.0),\n",
       " ('USC00519281', '2017-05-18', 69.0),\n",
       " ('USC00519281', '2017-07-10', 69.0),\n",
       " ('USC00519281', '2016-11-08', 70.0),\n",
       " ('USC00519281', '2016-12-02', 70.0),\n",
       " ('USC00519281', '2016-12-04', 70.0),\n",
       " ('USC00519281', '2016-12-08', 70.0),\n",
       " ('USC00519281', '2016-12-17', 70.0),\n",
       " ('USC00519281', '2017-01-02', 70.0),\n",
       " ('USC00519281', '2017-01-07', 70.0),\n",
       " ('USC00519281', '2017-01-08', 70.0),\n",
       " ('USC00519281', '2017-01-15', 70.0),\n",
       " ('USC00519281', '2017-01-26', 70.0),\n",
       " ('USC00519281', '2017-02-04', 70.0),\n",
       " ('USC00519281', '2017-02-12', 70.0),\n",
       " ('USC00519281', '2017-02-17', 70.0),\n",
       " ('USC00519281', '2017-02-19', 70.0),\n",
       " ('USC00519281', '2017-02-20', 70.0),\n",
       " ('USC00519281', '2017-04-03', 70.0),\n",
       " ('USC00519281', '2017-04-11', 70.0),\n",
       " ('USC00519281', '2017-04-27', 70.0),\n",
       " ('USC00519281', '2017-05-03', 70.0),\n",
       " ('USC00519281', '2017-05-05', 70.0),\n",
       " ('USC00519281', '2017-05-08', 70.0),\n",
       " ('USC00519281', '2017-05-11', 70.0),\n",
       " ('USC00519281', '2016-10-10', 71.0),\n",
       " ('USC00519281', '2016-11-06', 71.0),\n",
       " ('USC00519281', '2016-12-23', 71.0),\n",
       " ('USC00519281', '2016-12-27', 71.0),\n",
       " ('USC00519281', '2017-01-19', 71.0),\n",
       " ('USC00519281', '2017-01-21', 71.0),\n",
       " ('USC00519281', '2017-01-22', 71.0),\n",
       " ('USC00519281', '2017-02-21', 71.0),\n",
       " ('USC00519281', '2017-02-22', 71.0),\n",
       " ('USC00519281', '2017-02-23', 71.0),\n",
       " ('USC00519281', '2017-03-01', 71.0),\n",
       " ('USC00519281', '2017-03-24', 71.0),\n",
       " ('USC00519281', '2017-03-31', 71.0),\n",
       " ('USC00519281', '2017-04-05', 71.0),\n",
       " ('USC00519281', '2017-04-16', 71.0),\n",
       " ('USC00519281', '2017-05-22', 71.0),\n",
       " ('USC00519281', '2017-05-23', 71.0),\n",
       " ('USC00519281', '2017-06-25', 71.0),\n",
       " ('USC00519281', '2016-10-09', 72.0),\n",
       " ('USC00519281', '2016-12-03', 72.0),\n",
       " ('USC00519281', '2016-12-26', 72.0),\n",
       " ('USC00519281', '2016-12-28', 72.0),\n",
       " ('USC00519281', '2017-01-01', 72.0),\n",
       " ('USC00519281', '2017-01-18', 72.0),\n",
       " ('USC00519281', '2017-01-23', 72.0),\n",
       " ('USC00519281', '2017-01-24', 72.0),\n",
       " ('USC00519281', '2017-02-28', 72.0),\n",
       " ('USC00519281', '2017-03-03', 72.0),\n",
       " ('USC00519281', '2017-03-21', 72.0),\n",
       " ('USC00519281', '2017-03-23', 72.0),\n",
       " ('USC00519281', '2017-04-22', 72.0),\n",
       " ('USC00519281', '2017-04-25', 72.0),\n",
       " ('USC00519281', '2017-04-29', 72.0),\n",
       " ('USC00519281', '2017-05-30', 72.0),\n",
       " ('USC00519281', '2017-06-09', 72.0),\n",
       " ('USC00519281', '2017-06-19', 72.0),\n",
       " ('USC00519281', '2017-06-20', 72.0),\n",
       " ('USC00519281', '2017-06-22', 72.0),\n",
       " ('USC00519281', '2017-06-23', 72.0),\n",
       " ('USC00519281', '2017-07-11', 72.0),\n",
       " ('USC00519281', '2016-08-28', 73.0),\n",
       " ('USC00519281', '2016-09-06', 73.0),\n",
       " ('USC00519281', '2016-10-08', 73.0),\n",
       " ('USC00519281', '2016-10-26', 73.0),\n",
       " ('USC00519281', '2016-11-19', 73.0),\n",
       " ('USC00519281', '2016-11-21', 73.0),\n",
       " ('USC00519281', '2016-11-27', 73.0),\n",
       " ('USC00519281', '2016-11-29', 73.0),\n",
       " ('USC00519281', '2016-11-30', 73.0),\n",
       " ('USC00519281', '2016-12-22', 73.0),\n",
       " ('USC00519281', '2017-02-05', 73.0),\n",
       " ('USC00519281', '2017-02-13', 73.0),\n",
       " ('USC00519281', '2017-03-02', 73.0),\n",
       " ('USC00519281', '2017-03-05', 73.0),\n",
       " ('USC00519281', '2017-03-22', 73.0),\n",
       " ('USC00519281', '2017-03-30', 73.0),\n",
       " ('USC00519281', '2017-06-16', 73.0),\n",
       " ('USC00519281', '2017-06-26', 73.0),\n",
       " ('USC00519281', '2016-09-07', 74.0),\n",
       " ('USC00519281', '2016-09-21', 74.0),\n",
       " ('USC00519281', '2016-10-23', 74.0),\n",
       " ('USC00519281', '2016-10-28', 74.0),\n",
       " ('USC00519281', '2016-11-01', 74.0),\n",
       " ('USC00519281', '2016-11-12', 74.0),\n",
       " ('USC00519281', '2016-11-23', 74.0),\n",
       " ('USC00519281', '2016-11-25', 74.0),\n",
       " ('USC00519281', '2016-12-01', 74.0),\n",
       " ('USC00519281', '2016-12-21', 74.0),\n",
       " ('USC00519281', '2016-12-24', 74.0),\n",
       " ('USC00519281', '2016-12-25', 74.0),\n",
       " ('USC00519281', '2016-12-29', 74.0),\n",
       " ('USC00519281', '2017-01-16', 74.0),\n",
       " ('USC00519281', '2017-02-18', 74.0),\n",
       " ('USC00519281', '2017-03-19', 74.0),\n",
       " ('USC00519281', '2017-03-28', 74.0),\n",
       " ('USC00519281', '2017-04-01', 74.0),\n",
       " ('USC00519281', '2017-04-07', 74.0),\n",
       " ('USC00519281', '2017-04-14', 74.0),\n",
       " ('USC00519281', '2017-04-26', 74.0),\n",
       " ('USC00519281', '2017-05-10', 74.0),\n",
       " ('USC00519281', '2017-05-15', 74.0),\n",
       " ('USC00519281', '2017-05-16', 74.0),\n",
       " ('USC00519281', '2017-05-17', 74.0),\n",
       " ('USC00519281', '2017-05-21', 74.0),\n",
       " ('USC00519281', '2017-05-24', 74.0),\n",
       " ('USC00519281', '2017-05-25', 74.0),\n",
       " ('USC00519281', '2017-05-26', 74.0),\n",
       " ('USC00519281', '2017-05-27', 74.0),\n",
       " ('USC00519281', '2017-05-29', 74.0),\n",
       " ('USC00519281', '2017-06-10', 74.0),\n",
       " ('USC00519281', '2017-06-11', 74.0),\n",
       " ('USC00519281', '2017-06-12', 74.0),\n",
       " ('USC00519281', '2017-06-14', 74.0),\n",
       " ('USC00519281', '2017-06-21', 74.0),\n",
       " ('USC00519281', '2017-07-06', 74.0),\n",
       " ('USC00519281', '2017-07-12', 74.0),\n",
       " ('USC00519281', '2017-07-13', 74.0),\n",
       " ('USC00519281', '2016-08-27', 75.0),\n",
       " ('USC00519281', '2016-09-14', 75.0),\n",
       " ('USC00519281', '2016-10-06', 75.0),\n",
       " ('USC00519281', '2016-10-24', 75.0),\n",
       " ('USC00519281', '2016-11-02', 75.0),\n",
       " ('USC00519281', '2016-11-03', 75.0),\n",
       " ('USC00519281', '2016-11-04', 75.0),\n",
       " ('USC00519281', '2016-11-05', 75.0),\n",
       " ('USC00519281', '2016-11-16', 75.0),\n",
       " ('USC00519281', '2016-11-18', 75.0),\n",
       " ('USC00519281', '2016-11-20', 75.0),\n",
       " ('USC00519281', '2016-11-22', 75.0),\n",
       " ('USC00519281', '2016-11-24', 75.0),\n",
       " ('USC00519281', '2016-11-26', 75.0),\n",
       " ('USC00519281', '2016-11-28', 75.0),\n",
       " ('USC00519281', '2016-12-16', 75.0),\n",
       " ('USC00519281', '2017-02-06', 75.0),\n",
       " ('USC00519281', '2017-02-15', 75.0),\n",
       " ('USC00519281', '2017-04-02', 75.0),\n",
       " ('USC00519281', '2017-05-02', 75.0),\n",
       " ('USC00519281', '2017-05-04', 75.0),\n",
       " ('USC00519281', '2017-05-07', 75.0),\n",
       " ('USC00519281', '2017-05-12', 75.0),\n",
       " ('USC00519281', '2017-05-31', 75.0),\n",
       " ('USC00519281', '2017-06-05', 75.0),\n",
       " ('USC00519281', '2017-06-06', 75.0),\n",
       " ('USC00519281', '2017-06-07', 75.0),\n",
       " ('USC00519281', '2017-06-08', 75.0),\n",
       " ('USC00519281', '2017-06-15', 75.0),\n",
       " ('USC00519281', '2017-06-18', 75.0),\n",
       " ('USC00519281', '2017-07-07', 75.0),\n",
       " ('USC00519281', '2017-07-24', 75.0),\n",
       " ('USC00519281', '2017-07-26', 75.0),\n",
       " ('USC00519281', '2016-09-12', 76.0),\n",
       " ('USC00519281', '2016-09-20', 76.0),\n",
       " ('USC00519281', '2016-10-07', 76.0),\n",
       " ('USC00519281', '2016-10-25', 76.0),\n",
       " ('USC00519281', '2016-10-27', 76.0),\n",
       " ('USC00519281', '2016-10-30', 76.0),\n",
       " ('USC00519281', '2016-10-31', 76.0),\n",
       " ('USC00519281', '2016-11-14', 76.0),\n",
       " ('USC00519281', '2016-11-15', 76.0),\n",
       " ('USC00519281', '2016-11-17', 76.0),\n",
       " ('USC00519281', '2016-12-19', 76.0),\n",
       " ('USC00519281', '2016-12-20', 76.0),\n",
       " ('USC00519281', '2017-03-25', 76.0),\n",
       " ('USC00519281', '2017-03-27', 76.0),\n",
       " ('USC00519281', '2017-04-20', 76.0),\n",
       " ('USC00519281', '2017-04-23', 76.0),\n",
       " ('USC00519281', '2017-05-13', 76.0),\n",
       " ('USC00519281', '2017-05-20', 76.0),\n",
       " ('USC00519281', '2017-06-02', 76.0),\n",
       " ('USC00519281', '2017-06-03', 76.0),\n",
       " ('USC00519281', '2017-06-13', 76.0),\n",
       " ('USC00519281', '2017-06-27', 76.0),\n",
       " ('USC00519281', '2017-06-29', 76.0),\n",
       " ('USC00519281', '2017-06-30', 76.0),\n",
       " ('USC00519281', '2017-07-03', 76.0),\n",
       " ('USC00519281', '2017-07-14', 76.0),\n",
       " ('USC00519281', '2017-07-17', 76.0),\n",
       " ('USC00519281', '2017-07-18', 76.0),\n",
       " ('USC00519281', '2017-07-19', 76.0),\n",
       " ('USC00519281', '2017-07-27', 76.0),\n",
       " ('USC00519281', '2017-07-31', 76.0),\n",
       " ('USC00519281', '2017-08-16', 76.0),\n",
       " ('USC00519281', '2017-08-17', 76.0),\n",
       " ('USC00519281', '2016-08-23', 77.0),\n",
       " ('USC00519281', '2016-08-24', 77.0),\n",
       " ('USC00519281', '2016-08-30', 77.0),\n",
       " ('USC00519281', '2016-09-10', 77.0),\n",
       " ('USC00519281', '2016-09-22', 77.0),\n",
       " ('USC00519281', '2016-09-26', 77.0),\n",
       " ('USC00519281', '2016-10-01', 77.0),\n",
       " ('USC00519281', '2016-10-11', 77.0),\n",
       " ('USC00519281', '2016-10-15', 77.0),\n",
       " ('USC00519281', '2016-10-17', 77.0),\n",
       " ('USC00519281', '2016-10-22', 77.0),\n",
       " ('USC00519281', '2016-10-29', 77.0),\n",
       " ('USC00519281', '2016-11-11', 77.0),\n",
       " ('USC00519281', '2016-11-13', 77.0),\n",
       " ('USC00519281', '2017-01-14', 77.0),\n",
       " ('USC00519281', '2017-03-04', 77.0),\n",
       " ('USC00519281', '2017-03-26', 77.0),\n",
       " ('USC00519281', '2017-04-08', 77.0),\n",
       " ('USC00519281', '2017-05-14', 77.0),\n",
       " ('USC00519281', '2017-06-04', 77.0),\n",
       " ('USC00519281', '2017-06-24', 77.0),\n",
       " ('USC00519281', '2017-06-28', 77.0),\n",
       " ('USC00519281', '2017-07-05', 77.0),\n",
       " ('USC00519281', '2017-07-20', 77.0),\n",
       " ('USC00519281', '2017-07-21', 77.0),\n",
       " ('USC00519281', '2017-07-22', 77.0),\n",
       " ('USC00519281', '2017-07-25', 77.0),\n",
       " ('USC00519281', '2017-08-04', 77.0),\n",
       " ('USC00519281', '2017-08-13', 77.0),\n",
       " ('USC00519281', '2017-08-14', 77.0),\n",
       " ('USC00519281', '2017-08-15', 77.0),\n",
       " ('USC00519281', '2016-08-29', 78.0),\n",
       " ('USC00519281', '2016-08-31', 78.0),\n",
       " ('USC00519281', '2016-09-03', 78.0),\n",
       " ('USC00519281', '2016-09-04', 78.0),\n",
       " ('USC00519281', '2016-09-05', 78.0),\n",
       " ('USC00519281', '2016-09-16', 78.0),\n",
       " ('USC00519281', '2016-09-18', 78.0),\n",
       " ('USC00519281', '2016-09-19', 78.0),\n",
       " ('USC00519281', '2016-09-23', 78.0),\n",
       " ('USC00519281', '2016-09-28', 78.0),\n",
       " ('USC00519281', '2016-09-29', 78.0),\n",
       " ('USC00519281', '2016-09-30', 78.0),\n",
       " ('USC00519281', '2016-10-13', 78.0),\n",
       " ('USC00519281', '2016-10-18', 78.0),\n",
       " ('USC00519281', '2016-10-19', 78.0),\n",
       " ('USC00519281', '2016-10-20', 78.0),\n",
       " ('USC00519281', '2016-10-21', 78.0),\n",
       " ('USC00519281', '2017-04-09', 78.0),\n",
       " ('USC00519281', '2017-04-15', 78.0),\n",
       " ('USC00519281', '2017-07-04', 78.0),\n",
       " ('USC00519281', '2017-07-08', 78.0),\n",
       " ('USC00519281', '2017-07-09', 78.0),\n",
       " ('USC00519281', '2016-09-09', 79.0),\n",
       " ('USC00519281', '2016-09-13', 79.0),\n",
       " ('USC00519281', '2016-09-15', 79.0),\n",
       " ('USC00519281', '2016-09-17', 79.0),\n",
       " ('USC00519281', '2016-09-24', 79.0),\n",
       " ('USC00519281', '2016-09-25', 79.0),\n",
       " ('USC00519281', '2016-10-02', 79.0),\n",
       " ('USC00519281', '2016-10-03', 79.0),\n",
       " ('USC00519281', '2016-10-04', 79.0),\n",
       " ('USC00519281', '2016-10-05', 79.0),\n",
       " ('USC00519281', '2016-10-12', 79.0),\n",
       " ('USC00519281', '2016-10-14', 79.0),\n",
       " ('USC00519281', '2016-10-16', 79.0),\n",
       " ('USC00519281', '2017-02-14', 79.0),\n",
       " ('USC00519281', '2017-05-06', 79.0),\n",
       " ('USC00519281', '2017-06-17', 79.0),\n",
       " ('USC00519281', '2017-07-01', 79.0),\n",
       " ('USC00519281', '2017-08-18', 79.0),\n",
       " ('USC00519281', '2016-08-25', 80.0),\n",
       " ('USC00519281', '2016-08-26', 80.0),\n",
       " ('USC00519281', '2016-09-01', 80.0),\n",
       " ('USC00519281', '2016-09-02', 80.0),\n",
       " ('USC00519281', '2016-09-08', 80.0),\n",
       " ('USC00519281', '2016-09-11', 80.0),\n",
       " ('USC00519281', '2016-09-27', 80.0),\n",
       " ('USC00519281', '2017-05-28', 80.0),\n",
       " ('USC00519281', '2017-06-01', 80.0),\n",
       " ('USC00519281', '2017-07-15', 80.0),\n",
       " ('USC00519281', '2017-07-16', 80.0),\n",
       " ('USC00519281', '2017-03-11', 81.0),\n",
       " ('USC00519281', '2017-07-02', 81.0),\n",
       " ('USC00519281', '2017-07-28', 81.0),\n",
       " ('USC00519281', '2017-07-30', 81.0),\n",
       " ('USC00519281', '2017-07-23', 82.0),\n",
       " ('USC00519281', '2017-07-29', 82.0),\n",
       " ('USC00519281', '2017-08-05', 82.0),\n",
       " ('USC00519281', '2017-08-06', 83.0)]"
      ]
     },
     "execution_count": 42,
     "metadata": {},
     "output_type": "execute_result"
    }
   ],
   "source": [
    "tobs_data = session.query(Measurement.station, Measurement.date, Measurement.tobs).\\\n",
    "    filter(Measurement.station == 'USC00519281').\\\n",
    "    filter(Measurement.date > '2016-08-22').\\\n",
    "    order_by(Measurement.tobs).all()\n",
    "tobs_data"
   ]
  },
  {
   "cell_type": "code",
   "execution_count": 44,
   "metadata": {},
   "outputs": [
    {
     "data": {
      "text/html": [
       "<div>\n",
       "<style scoped>\n",
       "    .dataframe tbody tr th:only-of-type {\n",
       "        vertical-align: middle;\n",
       "    }\n",
       "\n",
       "    .dataframe tbody tr th {\n",
       "        vertical-align: top;\n",
       "    }\n",
       "\n",
       "    .dataframe thead th {\n",
       "        text-align: right;\n",
       "    }\n",
       "</style>\n",
       "<table border=\"1\" class=\"dataframe\">\n",
       "  <thead>\n",
       "    <tr style=\"text-align: right;\">\n",
       "      <th></th>\n",
       "      <th>station</th>\n",
       "      <th>date</th>\n",
       "      <th>tobs</th>\n",
       "    </tr>\n",
       "  </thead>\n",
       "  <tbody>\n",
       "    <tr>\n",
       "      <th>0</th>\n",
       "      <td>USC00519281</td>\n",
       "      <td>2017-02-02</td>\n",
       "      <td>59.0</td>\n",
       "    </tr>\n",
       "    <tr>\n",
       "      <th>1</th>\n",
       "      <td>USC00519281</td>\n",
       "      <td>2017-02-08</td>\n",
       "      <td>59.0</td>\n",
       "    </tr>\n",
       "    <tr>\n",
       "      <th>2</th>\n",
       "      <td>USC00519281</td>\n",
       "      <td>2017-02-09</td>\n",
       "      <td>59.0</td>\n",
       "    </tr>\n",
       "    <tr>\n",
       "      <th>3</th>\n",
       "      <td>USC00519281</td>\n",
       "      <td>2017-02-03</td>\n",
       "      <td>60.0</td>\n",
       "    </tr>\n",
       "    <tr>\n",
       "      <th>4</th>\n",
       "      <td>USC00519281</td>\n",
       "      <td>2017-04-30</td>\n",
       "      <td>60.0</td>\n",
       "    </tr>\n",
       "    <tr>\n",
       "      <th>...</th>\n",
       "      <td>...</td>\n",
       "      <td>...</td>\n",
       "      <td>...</td>\n",
       "    </tr>\n",
       "    <tr>\n",
       "      <th>347</th>\n",
       "      <td>USC00519281</td>\n",
       "      <td>2017-07-30</td>\n",
       "      <td>81.0</td>\n",
       "    </tr>\n",
       "    <tr>\n",
       "      <th>348</th>\n",
       "      <td>USC00519281</td>\n",
       "      <td>2017-07-23</td>\n",
       "      <td>82.0</td>\n",
       "    </tr>\n",
       "    <tr>\n",
       "      <th>349</th>\n",
       "      <td>USC00519281</td>\n",
       "      <td>2017-07-29</td>\n",
       "      <td>82.0</td>\n",
       "    </tr>\n",
       "    <tr>\n",
       "      <th>350</th>\n",
       "      <td>USC00519281</td>\n",
       "      <td>2017-08-05</td>\n",
       "      <td>82.0</td>\n",
       "    </tr>\n",
       "    <tr>\n",
       "      <th>351</th>\n",
       "      <td>USC00519281</td>\n",
       "      <td>2017-08-06</td>\n",
       "      <td>83.0</td>\n",
       "    </tr>\n",
       "  </tbody>\n",
       "</table>\n",
       "<p>352 rows × 3 columns</p>\n",
       "</div>"
      ],
      "text/plain": [
       "         station        date  tobs\n",
       "0    USC00519281  2017-02-02  59.0\n",
       "1    USC00519281  2017-02-08  59.0\n",
       "2    USC00519281  2017-02-09  59.0\n",
       "3    USC00519281  2017-02-03  60.0\n",
       "4    USC00519281  2017-04-30  60.0\n",
       "..           ...         ...   ...\n",
       "347  USC00519281  2017-07-30  81.0\n",
       "348  USC00519281  2017-07-23  82.0\n",
       "349  USC00519281  2017-07-29  82.0\n",
       "350  USC00519281  2017-08-05  82.0\n",
       "351  USC00519281  2017-08-06  83.0\n",
       "\n",
       "[352 rows x 3 columns]"
      ]
     },
     "execution_count": 44,
     "metadata": {},
     "output_type": "execute_result"
    }
   ],
   "source": [
    "tobs_df = pd.DataFrame(tobs_data)\n",
    "tobs_df"
   ]
  },
  {
   "cell_type": "code",
   "execution_count": 52,
   "metadata": {},
   "outputs": [
    {
     "data": {
      "image/png": "[encoded data removed]",
      "text/plain": [
       "<Figure size 432x288 with 1 Axes>"
      ]
     },
     "metadata": {
      "needs_background": "light"
     },
     "output_type": "display_data"
    }
   ],
   "source": [
    "tobs_df.plot.hist(by='tobs', bins=12)\n",
    "plt.title(\"Frequency of Temperature\")\n",
    "plt.xlabel(\"Temperature\")\n",
    "plt.ylabel(\"Frequency\")\n",
    "plt.show()"
   ]
  },
  {
   "cell_type": "code",
   "execution_count": null,
   "metadata": {},
   "outputs": [],
   "source": []
  }
 ],
 "metadata": {
  "kernelspec": {
   "display_name": "Python 3",
   "language": "python",
   "name": "python3"
  },
  "language_info": {
   "codemirror_mode": {
    "name": "ipython",
    "version": 3
   },
   "file_extension": ".py",
   "mimetype": "text/x-python",
   "name": "python",
   "nbconvert_exporter": "python",
   "pygments_lexer": "ipython3",
   "version": "3.7.6"
  }
 },
 "nbformat": 4,
 "nbformat_minor": 4
}
